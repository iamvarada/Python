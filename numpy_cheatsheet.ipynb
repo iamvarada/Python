{
  "nbformat": 4,
  "nbformat_minor": 0,
  "metadata": {
    "colab": {
      "provenance": [],
      "authorship_tag": "ABX9TyPTFim18vBECZiyRxsa9+J4",
      "include_colab_link": true
    },
    "kernelspec": {
      "name": "python3",
      "display_name": "Python 3"
    },
    "language_info": {
      "name": "python"
    }
  },
  "cells": [
    {
      "cell_type": "markdown",
      "metadata": {
        "id": "view-in-github",
        "colab_type": "text"
      },
      "source": [
        "<a href=\"https://colab.research.google.com/github/iamvarada/Python/blob/master/numpy_cheatsheet.ipynb\" target=\"_parent\"><img src=\"https://colab.research.google.com/assets/colab-badge.svg\" alt=\"Open In Colab\"/></a>"
      ]
    },
    {
      "cell_type": "code",
      "execution_count": null,
      "metadata": {
        "id": "vdHbIT1E7Imi"
      },
      "outputs": [],
      "source": [
        "## Numpy cheatsheet and workbook"
      ]
    },
    {
      "cell_type": "code",
      "source": [
        "import numpy as np\n",
        "\n",
        "my_list = [1,2,3,4,5]\n",
        "arr = np.array(my_list)\n",
        "type(arr)"
      ],
      "metadata": {
        "colab": {
          "base_uri": "https://localhost:8080/"
        },
        "id": "W3unrSoc7vk-",
        "outputId": "2147df63-4e11-4489-f300-d49caff02ca8"
      },
      "execution_count": 2,
      "outputs": [
        {
          "output_type": "execute_result",
          "data": {
            "text/plain": [
              "numpy.ndarray"
            ]
          },
          "metadata": {},
          "execution_count": 2
        }
      ]
    },
    {
      "cell_type": "code",
      "source": [
        "# Efficiency comparison with list\n",
        "\n",
        "# memory check\n",
        "S = range(1000) # 1000 elements\n",
        "D = np.arange(1000) # 1000 elements from similar function from numpy\n",
        "\n",
        "import sys\n",
        "sys.getsizeof(5)*len(S),'bytes' # num bytes occupied by a variable\n"
      ],
      "metadata": {
        "colab": {
          "base_uri": "https://localhost:8080/"
        },
        "id": "NuLuw5b58Fdl",
        "outputId": "c379dbe6-7729-43a6-c4b2-44de94520c76"
      },
      "execution_count": 7,
      "outputs": [
        {
          "output_type": "execute_result",
          "data": {
            "text/plain": [
              "(28000, 'bytes')"
            ]
          },
          "metadata": {},
          "execution_count": 7
        }
      ]
    },
    {
      "cell_type": "code",
      "source": [
        "D.itemsize*D.size,'bytes' # returns size occupied by single element in the array\n",
        "\n",
        "# memory efficiency very high for numpy compared to built-in structures like list"
      ],
      "metadata": {
        "colab": {
          "base_uri": "https://localhost:8080/"
        },
        "id": "D2x_14-k85_S",
        "outputId": "0928b4bb-9891-47e8-fdce-ba68aef1d0f9"
      },
      "execution_count": 8,
      "outputs": [
        {
          "output_type": "execute_result",
          "data": {
            "text/plain": [
              "(8000, 'bytes')"
            ]
          },
          "metadata": {},
          "execution_count": 8
        }
      ]
    },
    {
      "cell_type": "code",
      "source": [
        "# time efficiency check\n",
        "import time\n",
        "\n",
        "SIZE = 1000000\n",
        "\n",
        "L1 = range(SIZE)\n",
        "L2 = range(SIZE)\n",
        "\n",
        "A1 = np.arange(SIZE)\n",
        "A2 = np.arange(SIZE)\n",
        "\n",
        "start_time = time.time()\n",
        "result = [(x+y) for x,y in zip(L1,L2)] # list comprehensiion, zip() performs elementwise computation\n",
        "end_time = time.time()\n",
        "\n",
        "print('Time taken by list to add values ', (end_time - start_time)*1000, 'ms')\n",
        "\n",
        "start_time = time.time()\n",
        "result = A1+A2\n",
        "end_time = time.time()\n",
        "\n",
        "print(\"Time taken by numpy to add values \", (end_time - start_time)*1000, \"ms\")"
      ],
      "metadata": {
        "colab": {
          "base_uri": "https://localhost:8080/"
        },
        "id": "JL-WhAXh9IAV",
        "outputId": "d04e90f7-b272-4d02-daa5-720d5afdcead"
      },
      "execution_count": 11,
      "outputs": [
        {
          "output_type": "stream",
          "name": "stdout",
          "text": [
            "Time taken by list to add values  66.49637222290039 ms\n",
            "Time taken by numpy to add values  16.24774932861328 ms\n"
          ]
        }
      ]
    },
    {
      "cell_type": "code",
      "source": [],
      "metadata": {
        "id": "gMIrQ_Ac-CeB"
      },
      "execution_count": null,
      "outputs": []
    },
    {
      "cell_type": "code",
      "source": [
        "# 1D array\n",
        "a = np.array([1,2,3,4,5])\n",
        "print(a, a.shape, a.ndim)"
      ],
      "metadata": {
        "colab": {
          "base_uri": "https://localhost:8080/"
        },
        "id": "J4qq07nd-uMB",
        "outputId": "5fb35fb8-d1eb-4eba-a9fe-80a232a38582"
      },
      "execution_count": 17,
      "outputs": [
        {
          "output_type": "stream",
          "name": "stdout",
          "text": [
            "[1 2 3 4 5] (5,) 1\n"
          ]
        }
      ]
    },
    {
      "cell_type": "code",
      "source": [
        "# 2D array\n",
        "b = np.array([[1,2,3],\n",
        "              [4,5,6]\n",
        "              ])\n",
        "print(b, '\\n', b.shape, b.ndim)"
      ],
      "metadata": {
        "colab": {
          "base_uri": "https://localhost:8080/"
        },
        "id": "BSE9g2wi-5ho",
        "outputId": "65d1c753-9116-4755-e84f-0eee46006f6e"
      },
      "execution_count": 20,
      "outputs": [
        {
          "output_type": "stream",
          "name": "stdout",
          "text": [
            "[[1 2 3]\n",
            " [4 5 6]] \n",
            " (2, 3) 2\n"
          ]
        }
      ]
    },
    {
      "cell_type": "code",
      "source": [
        "# 3D array\n",
        "c = np.array([\n",
        "             [[1,2,3], [4,5,6]],\n",
        "             [[7,8,9], [10,11,12]]\n",
        "              ])\n",
        "\n",
        "print(c, '\\n', c.shape, c.ndim)"
      ],
      "metadata": {
        "colab": {
          "base_uri": "https://localhost:8080/"
        },
        "id": "VwI3Ihq4_VQJ",
        "outputId": "29a1b332-e729-4435-b82c-b0f776c16c51"
      },
      "execution_count": 21,
      "outputs": [
        {
          "output_type": "stream",
          "name": "stdout",
          "text": [
            "[[[ 1  2  3]\n",
            "  [ 4  5  6]]\n",
            "\n",
            " [[ 7  8  9]\n",
            "  [10 11 12]]] \n",
            " (2, 2, 3) 3\n"
          ]
        }
      ]
    },
    {
      "cell_type": "code",
      "source": [
        "# Re-shaping the arrays\n",
        "\n",
        "e = np.array([[1,2,3], [4,5,6]])\n",
        "print(e, '\\n' , e.shape)"
      ],
      "metadata": {
        "colab": {
          "base_uri": "https://localhost:8080/"
        },
        "id": "_ga0Vfgz_zl_",
        "outputId": "1cf449be-0cd5-48f0-f84c-a5e01c4c339f"
      },
      "execution_count": 25,
      "outputs": [
        {
          "output_type": "stream",
          "name": "stdout",
          "text": [
            "[[1 2 3]\n",
            " [4 5 6]] \n",
            " (2, 3)\n"
          ]
        }
      ]
    },
    {
      "cell_type": "code",
      "source": [
        "e.reshape(3,2)"
      ],
      "metadata": {
        "colab": {
          "base_uri": "https://localhost:8080/"
        },
        "id": "QgZ2PiZy_-A2",
        "outputId": "ecc796b3-069a-45bb-adfa-f610dfbea7dd"
      },
      "execution_count": 26,
      "outputs": [
        {
          "output_type": "execute_result",
          "data": {
            "text/plain": [
              "array([[1, 2],\n",
              "       [3, 4],\n",
              "       [5, 6]])"
            ]
          },
          "metadata": {},
          "execution_count": 26
        }
      ]
    },
    {
      "cell_type": "code",
      "source": [
        "# Flatten the array to 1D array\n",
        "\n",
        "print(e.flatten())\n",
        "print(e.flatten().shape)"
      ],
      "metadata": {
        "colab": {
          "base_uri": "https://localhost:8080/"
        },
        "id": "y7m6vk0OAIFm",
        "outputId": "6ecaa9a7-7593-450d-af66-e65757e2fdc5"
      },
      "execution_count": 30,
      "outputs": [
        {
          "output_type": "stream",
          "name": "stdout",
          "text": [
            "[1 2 3 4 5 6]\n",
            "(6,)\n"
          ]
        }
      ]
    },
    {
      "cell_type": "code",
      "source": [
        "# Stacking -- Merging two nd arrays\n",
        "\n",
        "f = np.array([1,2,3])\n",
        "g = np.array([4,5,6])\n",
        "\n",
        "# Horizontal stacking\n",
        "print('Horizontal stacking \\n', np.hstack((f,g))) # passing both arrays as tuple (aka (a,b))\n",
        "\n",
        "# Vertical stacking\n",
        "print('Vertical stacking results in 2D array \\n', np.vstack((f,g))) # passing both arrays as tuple (aka (a,b))"
      ],
      "metadata": {
        "colab": {
          "base_uri": "https://localhost:8080/"
        },
        "id": "MWUWRXNAAVcn",
        "outputId": "302cc210-9fa1-427e-92bb-5dbb4ec33db3"
      },
      "execution_count": 33,
      "outputs": [
        {
          "output_type": "stream",
          "name": "stdout",
          "text": [
            "Horizontal stacking \n",
            " [1 2 3 4 5 6]\n",
            "Vertical stacking results in 2D array \n",
            " [[1 2 3]\n",
            " [4 5 6]]\n"
          ]
        }
      ]
    },
    {
      "cell_type": "code",
      "source": [
        "# Slicing\n",
        "\n",
        "e = np.array([(1,2,3), (4,5,6)])\n",
        "print(e)"
      ],
      "metadata": {
        "colab": {
          "base_uri": "https://localhost:8080/"
        },
        "id": "XOmS7gFaAtSh",
        "outputId": "fbd7b100-0e16-47f3-a799-87ac296c15f5"
      },
      "execution_count": 36,
      "outputs": [
        {
          "output_type": "stream",
          "name": "stdout",
          "text": [
            "[[1 2 3]\n",
            " [4 5 6]]\n"
          ]
        }
      ]
    },
    {
      "cell_type": "code",
      "source": [
        "# Indexing -- a form of basic slicing\n",
        "print(e[0])\n",
        "print(e[1])"
      ],
      "metadata": {
        "colab": {
          "base_uri": "https://localhost:8080/"
        },
        "id": "BYzKuFSVBAWW",
        "outputId": "4a736e3c-112d-4555-a83e-5b7428358555"
      },
      "execution_count": 39,
      "outputs": [
        {
          "output_type": "stream",
          "name": "stdout",
          "text": [
            "[1 2 3]\n",
            "[4 5 6]\n"
          ]
        }
      ]
    },
    {
      "cell_type": "code",
      "source": [
        "# Slicing\n",
        "print(e[:,1]) # all rows and first column (starts from 0)\n",
        "print(e[1,:2]) # 1st row, 2 columns starting from 0"
      ],
      "metadata": {
        "colab": {
          "base_uri": "https://localhost:8080/"
        },
        "id": "XDLWBECpBHje",
        "outputId": "346939de-3ba0-4881-af9a-0e40409a9ebe"
      },
      "execution_count": 43,
      "outputs": [
        {
          "output_type": "stream",
          "name": "stdout",
          "text": [
            "[2 5]\n",
            "[4 5]\n"
          ]
        }
      ]
    },
    {
      "cell_type": "code",
      "source": [
        "# Intializing float arrays\n",
        "list_ex = [[0,1,2], [3,4,5]]\n",
        "arr = np.array(list_ex, dtype = 'float')\n",
        "print(arr)"
      ],
      "metadata": {
        "colab": {
          "base_uri": "https://localhost:8080/"
        },
        "id": "XyVFDFt0BiGf",
        "outputId": "060fa156-19b2-4d37-f1fd-e46c9db05def"
      },
      "execution_count": 44,
      "outputs": [
        {
          "output_type": "stream",
          "name": "stdout",
          "text": [
            "[[0. 1. 2.]\n",
            " [3. 4. 5.]]\n"
          ]
        }
      ]
    },
    {
      "cell_type": "code",
      "source": [
        "# Converting to another datatype after assiging the array\n",
        "\n",
        "print(arr.astype('int'))"
      ],
      "metadata": {
        "colab": {
          "base_uri": "https://localhost:8080/"
        },
        "id": "DCr3TueqCMNh",
        "outputId": "da09afeb-e9a7-44bf-d58e-58c0f6fdaf69"
      },
      "execution_count": 45,
      "outputs": [
        {
          "output_type": "stream",
          "name": "stdout",
          "text": [
            "[[0 1 2]\n",
            " [3 4 5]]\n"
          ]
        }
      ]
    },
    {
      "cell_type": "code",
      "source": [
        "# Convering array to list\n",
        "\n",
        "print(arr.tolist(), type(arr.tolist()))"
      ],
      "metadata": {
        "colab": {
          "base_uri": "https://localhost:8080/"
        },
        "id": "hiHpMyGtCWel",
        "outputId": "6a0c6644-1ef4-4e95-d0ba-2f77eb66e8d2"
      },
      "execution_count": 47,
      "outputs": [
        {
          "output_type": "stream",
          "name": "stdout",
          "text": [
            "[[0.0, 1.0, 2.0], [3.0, 4.0, 5.0]] <class 'list'>\n"
          ]
        }
      ]
    },
    {
      "cell_type": "code",
      "source": [
        "# Manipulating arrays\n",
        "\n",
        "# Missing values\n",
        "arr = np.array([[1,2,3], [4,5,6], [7,8,9]])\n",
        "print(arr, arr.shape)"
      ],
      "metadata": {
        "colab": {
          "base_uri": "https://localhost:8080/"
        },
        "id": "5djnDpHkCc8e",
        "outputId": "abe68ace-fb0b-40b1-b090-746282a32b75"
      },
      "execution_count": 50,
      "outputs": [
        {
          "output_type": "stream",
          "name": "stdout",
          "text": [
            "[[1 2 3]\n",
            " [4 5 6]\n",
            " [7 8 9]] (3, 3)\n"
          ]
        }
      ]
    },
    {
      "cell_type": "code",
      "source": [
        "arr[1,1] = np.nan\n",
        "# gives error as nd arrays can only of one datatype, nan is float, arr is integer right"
      ],
      "metadata": {
        "colab": {
          "base_uri": "https://localhost:8080/",
          "height": 187
        },
        "id": "t0fC2qzYC6aU",
        "outputId": "763823f0-8b34-4173-a541-e2abce2698cd"
      },
      "execution_count": 51,
      "outputs": [
        {
          "output_type": "error",
          "ename": "ValueError",
          "evalue": "ignored",
          "traceback": [
            "\u001b[0;31m---------------------------------------------------------------------------\u001b[0m",
            "\u001b[0;31mValueError\u001b[0m                                Traceback (most recent call last)",
            "\u001b[0;32m<ipython-input-51-c62d8fa2dfea>\u001b[0m in \u001b[0;36m<cell line: 1>\u001b[0;34m()\u001b[0m\n\u001b[0;32m----> 1\u001b[0;31m \u001b[0marr\u001b[0m\u001b[0;34m[\u001b[0m\u001b[0;36m1\u001b[0m\u001b[0;34m,\u001b[0m\u001b[0;36m1\u001b[0m\u001b[0;34m]\u001b[0m \u001b[0;34m=\u001b[0m \u001b[0mnp\u001b[0m\u001b[0;34m.\u001b[0m\u001b[0mnan\u001b[0m\u001b[0;34m\u001b[0m\u001b[0;34m\u001b[0m\u001b[0m\n\u001b[0m\u001b[1;32m      2\u001b[0m \u001b[0;31m# gives error as nd arrays can only of one datatype, nan is float, arr is integer right\u001b[0m\u001b[0;34m\u001b[0m\u001b[0;34m\u001b[0m\u001b[0m\n",
            "\u001b[0;31mValueError\u001b[0m: cannot convert float NaN to integer"
          ]
        }
      ]
    },
    {
      "cell_type": "code",
      "source": [
        "arr = arr.astype('float')\n",
        "arr"
      ],
      "metadata": {
        "colab": {
          "base_uri": "https://localhost:8080/"
        },
        "id": "X2DaQycrDLS9",
        "outputId": "61621dd1-f65b-4179-af8f-7352bcf81c12"
      },
      "execution_count": 55,
      "outputs": [
        {
          "output_type": "execute_result",
          "data": {
            "text/plain": [
              "array([[1., 2., 3.],\n",
              "       [4., 5., 6.],\n",
              "       [7., 8., 9.]])"
            ]
          },
          "metadata": {},
          "execution_count": 55
        }
      ]
    },
    {
      "cell_type": "code",
      "source": [
        "arr[1,1] = np.nan\n",
        "arr[2,1] = np.inf\n",
        "arr"
      ],
      "metadata": {
        "colab": {
          "base_uri": "https://localhost:8080/"
        },
        "id": "hTO_jexoDRI6",
        "outputId": "7642b916-5faa-4d00-fc9c-7b3955296976"
      },
      "execution_count": 58,
      "outputs": [
        {
          "output_type": "execute_result",
          "data": {
            "text/plain": [
              "array([[ 1.,  2.,  3.],\n",
              "       [ 4., nan,  6.],\n",
              "       [ 7., inf,  9.]])"
            ]
          },
          "metadata": {},
          "execution_count": 58
        }
      ]
    },
    {
      "cell_type": "code",
      "source": [
        "# Statistics\n",
        "\n",
        "# Computing mean, min, max on mdarray\n",
        "arr[1,1] = 10\n",
        "arr[2,1]  = 20\n",
        "arr\n"
      ],
      "metadata": {
        "colab": {
          "base_uri": "https://localhost:8080/"
        },
        "id": "r1zcgRESDevW",
        "outputId": "e8ebc93b-28cf-4850-ba41-cf227304a653"
      },
      "execution_count": 59,
      "outputs": [
        {
          "output_type": "execute_result",
          "data": {
            "text/plain": [
              "array([[ 1.,  2.,  3.],\n",
              "       [ 4., 10.,  6.],\n",
              "       [ 7., 20.,  9.]])"
            ]
          },
          "metadata": {},
          "execution_count": 59
        }
      ]
    },
    {
      "cell_type": "code",
      "source": [
        "print('Mean: ', arr.mean())\n",
        "print('Min: ', arr.min())\n",
        "print('Max: ', arr.max())"
      ],
      "metadata": {
        "colab": {
          "base_uri": "https://localhost:8080/"
        },
        "id": "LG216lemDzft",
        "outputId": "e6441acd-7431-4baf-bf94-49679a205dba"
      },
      "execution_count": 60,
      "outputs": [
        {
          "output_type": "stream",
          "name": "stdout",
          "text": [
            "Mean:  6.888888888888889\n",
            "Min:  1.0\n",
            "Max:  20.0\n"
          ]
        }
      ]
    },
    {
      "cell_type": "code",
      "source": [
        "# Column-wise stats\n",
        "print('Column-wise min', np.amin(arr, axis = 0)) # axis = 0 means column-wise\n",
        "\n",
        "# Row-wise stats\n",
        "print('Row-wise min', np.amin(arr, axis=1)) # axis = 1 means row-wise"
      ],
      "metadata": {
        "colab": {
          "base_uri": "https://localhost:8080/"
        },
        "id": "DrimIDbCD9aa",
        "outputId": "cf0bcbff-9525-46b6-8e18-d71bd89099ae"
      },
      "execution_count": 62,
      "outputs": [
        {
          "output_type": "stream",
          "name": "stdout",
          "text": [
            "Column-wise min [1. 2. 3.]\n",
            "Row-wise min [1. 4. 7.]\n"
          ]
        }
      ]
    },
    {
      "cell_type": "code",
      "source": [
        "# Filtering the data using numpy expressions\n",
        "\n",
        "a = np.array([[1,2,3], [2,3,4], [7,8,9]])\n",
        "print(a, a.shape, a.ndim)"
      ],
      "metadata": {
        "colab": {
          "base_uri": "https://localhost:8080/"
        },
        "id": "jUVaSOyCEaug",
        "outputId": "1c7806d0-76e1-4667-906d-8b055bcc6bd7"
      },
      "execution_count": 63,
      "outputs": [
        {
          "output_type": "stream",
          "name": "stdout",
          "text": [
            "[[1 2 3]\n",
            " [2 3 4]\n",
            " [7 8 9]] (3, 3) 2\n"
          ]
        }
      ]
    },
    {
      "cell_type": "code",
      "source": [
        "# Find values in the array greater than 2\n",
        "bool_idx = (a > 2)\n",
        "print(bool_idx)\n",
        "\n",
        "print('\\n\\nValues at all indices where the boolean expression is true')\n",
        "a[bool_idx] "
      ],
      "metadata": {
        "colab": {
          "base_uri": "https://localhost:8080/"
        },
        "id": "cbKhrlIFEoi1",
        "outputId": "36e4926b-f262-47a9-de03-224cc38577b9"
      },
      "execution_count": 67,
      "outputs": [
        {
          "output_type": "stream",
          "name": "stdout",
          "text": [
            "[[False False  True]\n",
            " [False  True  True]\n",
            " [ True  True  True]]\n",
            "\n",
            "\n",
            "Values at all indices where the boolean expression is true\n"
          ]
        },
        {
          "output_type": "execute_result",
          "data": {
            "text/plain": [
              "array([3, 3, 4, 7, 8, 9])"
            ]
          },
          "metadata": {},
          "execution_count": 67
        }
      ]
    },
    {
      "cell_type": "code",
      "source": [
        "# Math operations on nd array\n",
        "\n",
        "x = np.array([[1,2], [3,4]], dtype = 'float')\n",
        "y = np.array([[5,6], [7,8]], dtype = np.float64) # another way to specify the data type\n",
        "\n",
        "print(x)\n",
        "print(y)\n",
        "\n",
        "# Element wise\n",
        "\n",
        "# subract \n",
        "print(x-y)\n",
        "\n",
        "# same as\n",
        "np.subtract(x,y)\n",
        "\n",
        "# square root\n",
        "np.sqrt(x)"
      ],
      "metadata": {
        "colab": {
          "base_uri": "https://localhost:8080/"
        },
        "id": "bc9Df0o0FCb5",
        "outputId": "7ce82e59-bf04-43ab-e461-30cf1f7996c5"
      },
      "execution_count": 73,
      "outputs": [
        {
          "output_type": "stream",
          "name": "stdout",
          "text": [
            "[[1. 2.]\n",
            " [3. 4.]]\n",
            "[[5. 6.]\n",
            " [7. 8.]]\n",
            "[[-4. -4.]\n",
            " [-4. -4.]]\n"
          ]
        },
        {
          "output_type": "execute_result",
          "data": {
            "text/plain": [
              "array([[1.        , 1.41421356],\n",
              "       [1.73205081, 2.        ]])"
            ]
          },
          "metadata": {},
          "execution_count": 73
        }
      ]
    },
    {
      "cell_type": "code",
      "source": [
        "# Column-wise and row-wise math operations\n",
        "print(np.sum(x)) # all elements of array\n",
        "\n",
        "print(np.sum(x, axis = 0)) # column-wise\n",
        "print(np.sum(x, axis = 1)) # row-wise"
      ],
      "metadata": {
        "colab": {
          "base_uri": "https://localhost:8080/"
        },
        "id": "YaQ7LSGmFuUD",
        "outputId": "b8514af8-ddd6-44c2-c65a-fab91090cebc"
      },
      "execution_count": 75,
      "outputs": [
        {
          "output_type": "stream",
          "name": "stdout",
          "text": [
            "10.0\n",
            "[4. 6.]\n",
            "[3. 7.]\n"
          ]
        }
      ]
    },
    {
      "cell_type": "code",
      "source": [
        "# Basic word problem\n",
        "\n",
        "# distance travelled by riders\n",
        "dist = [181, 222, 445, 467]\n",
        "# time taken by each rider\n",
        "time = [2, 5, 6, 7]\n",
        "\n",
        "# speed of each rider\n",
        "speed = dist/time # error as list is not divisible element wise"
      ],
      "metadata": {
        "colab": {
          "base_uri": "https://localhost:8080/",
          "height": 204
        },
        "id": "33qogAAsGCZK",
        "outputId": "2e4d1cdb-f55a-42ac-af42-dc5a23ff9e50"
      },
      "execution_count": 76,
      "outputs": [
        {
          "output_type": "error",
          "ename": "TypeError",
          "evalue": "ignored",
          "traceback": [
            "\u001b[0;31m---------------------------------------------------------------------------\u001b[0m",
            "\u001b[0;31mTypeError\u001b[0m                                 Traceback (most recent call last)",
            "\u001b[0;32m<ipython-input-76-c9bb542f5cc4>\u001b[0m in \u001b[0;36m<cell line: 9>\u001b[0;34m()\u001b[0m\n\u001b[1;32m      7\u001b[0m \u001b[0;34m\u001b[0m\u001b[0m\n\u001b[1;32m      8\u001b[0m \u001b[0;31m# speed of each rider\u001b[0m\u001b[0;34m\u001b[0m\u001b[0;34m\u001b[0m\u001b[0m\n\u001b[0;32m----> 9\u001b[0;31m \u001b[0mspeed\u001b[0m \u001b[0;34m=\u001b[0m \u001b[0mdist\u001b[0m\u001b[0;34m/\u001b[0m\u001b[0mtime\u001b[0m\u001b[0;34m\u001b[0m\u001b[0;34m\u001b[0m\u001b[0m\n\u001b[0m",
            "\u001b[0;31mTypeError\u001b[0m: unsupported operand type(s) for /: 'list' and 'list'"
          ]
        }
      ]
    },
    {
      "cell_type": "code",
      "source": [
        "# Convert to np array and it makes life easier\n",
        "dist = np.array(dist)\n",
        "time = np.array(time)\n",
        "\n",
        "speed = dist/time\n",
        "print(speed)"
      ],
      "metadata": {
        "colab": {
          "base_uri": "https://localhost:8080/"
        },
        "id": "IugWvgLqGaE4",
        "outputId": "bf228084-7dd0-48aa-c93a-1e5a24ff5dfe"
      },
      "execution_count": 79,
      "outputs": [
        {
          "output_type": "stream",
          "name": "stdout",
          "text": [
            "[90.5        44.4        74.16666667 66.71428571]\n"
          ]
        }
      ]
    },
    {
      "cell_type": "code",
      "source": [
        "# Another word problem\n",
        "\n",
        "hour_wage = np.array([12,45,677]) # in INR\n",
        "\n",
        "# conver to dollars (x80 for example)\n",
        "\n",
        "hour_wage*80"
      ],
      "metadata": {
        "colab": {
          "base_uri": "https://localhost:8080/"
        },
        "id": "36vTsD9SGmxV",
        "outputId": "b7fd293a-c6d1-4c7f-daf6-a5ab2e6f8b72"
      },
      "execution_count": 80,
      "outputs": [
        {
          "output_type": "execute_result",
          "data": {
            "text/plain": [
              "array([  960,  3600, 54160])"
            ]
          },
          "metadata": {},
          "execution_count": 80
        }
      ]
    },
    {
      "cell_type": "code",
      "source": [
        "# Another problem\n",
        "\n",
        "weekly_hrs = np.array([40,506, 69076, 33])\n",
        "weekly_hrs[weekly_hrs >= 40]"
      ],
      "metadata": {
        "colab": {
          "base_uri": "https://localhost:8080/"
        },
        "id": "n8AKkgVNG4eR",
        "outputId": "28114dc8-5eb6-403f-e2ba-cdd0ac2f5537"
      },
      "execution_count": 81,
      "outputs": [
        {
          "output_type": "execute_result",
          "data": {
            "text/plain": [
              "array([   40,   506, 69076])"
            ]
          },
          "metadata": {},
          "execution_count": 81
        }
      ]
    },
    {
      "cell_type": "code",
      "source": [
        "# Same thing using numpy logical operators\n",
        "weekly_hrs[np.logical_not(weekly_hrs < 40)]"
      ],
      "metadata": {
        "colab": {
          "base_uri": "https://localhost:8080/"
        },
        "id": "2htz9i0bHEoq",
        "outputId": "a7e44b01-b780-49fd-f38a-97572dd6820d"
      },
      "execution_count": 82,
      "outputs": [
        {
          "output_type": "execute_result",
          "data": {
            "text/plain": [
              "array([   40,   506, 69076])"
            ]
          },
          "metadata": {},
          "execution_count": 82
        }
      ]
    },
    {
      "cell_type": "code",
      "source": [
        "np.logical_and(weekly_hrs > 30, weekly_hrs <50)"
      ],
      "metadata": {
        "colab": {
          "base_uri": "https://localhost:8080/"
        },
        "id": "5rqr44rMHONx",
        "outputId": "285aab70-de61-43ab-f4b9-bd72256ce7fd"
      },
      "execution_count": 84,
      "outputs": [
        {
          "output_type": "execute_result",
          "data": {
            "text/plain": [
              "array([ True, False, False,  True])"
            ]
          },
          "metadata": {},
          "execution_count": 84
        }
      ]
    },
    {
      "cell_type": "code",
      "source": [
        "# Create arrays of ones\n",
        "\n",
        "print(np.ones((3,4))) # 3 rows, 4 columns\n",
        "print('\\n\\n')\n",
        "print(np.zeros((1,2)))"
      ],
      "metadata": {
        "colab": {
          "base_uri": "https://localhost:8080/"
        },
        "id": "ci2CbsHIHWls",
        "outputId": "02d314c4-f4ad-48bb-a055-a906d8442818"
      },
      "execution_count": 87,
      "outputs": [
        {
          "output_type": "stream",
          "name": "stdout",
          "text": [
            "[[1. 1. 1. 1.]\n",
            " [1. 1. 1. 1.]\n",
            " [1. 1. 1. 1.]]\n",
            "\n",
            "\n",
            "\n",
            "[[0. 0.]]\n"
          ]
        }
      ]
    },
    {
      "cell_type": "code",
      "source": [
        "# Random values\n",
        "np.random.random((2,2))"
      ],
      "metadata": {
        "colab": {
          "base_uri": "https://localhost:8080/"
        },
        "id": "dicn2-qVHnlG",
        "outputId": "bf69f1ee-a06a-49c5-edb6-8208d937f75a"
      },
      "execution_count": 88,
      "outputs": [
        {
          "output_type": "execute_result",
          "data": {
            "text/plain": [
              "array([[0.36653132, 0.27288394],\n",
              "       [0.47035967, 0.42114506]])"
            ]
          },
          "metadata": {},
          "execution_count": 88
        }
      ]
    },
    {
      "cell_type": "code",
      "source": [
        "# Empty array\n",
        "np.empty((3,5))"
      ],
      "metadata": {
        "colab": {
          "base_uri": "https://localhost:8080/"
        },
        "id": "RubxKhUlHrwT",
        "outputId": "61d6037e-ed33-4a7b-d513-34e59347a4d4"
      },
      "execution_count": 89,
      "outputs": [
        {
          "output_type": "execute_result",
          "data": {
            "text/plain": [
              "array([[2.56032802e-316, 0.00000000e+000, 0.00000000e+000,\n",
              "        4.79243676e-322, 6.92997366e-310],\n",
              "       [3.53407133e-316, 4.31174539e-096, 9.80058441e+252,\n",
              "        1.23971686e+224, 1.05235720e-153],\n",
              "       [9.03292329e+271, 9.08366793e+223, 1.06244660e-153,\n",
              "        3.44981369e+175, 7.11454530e-322]])"
            ]
          },
          "metadata": {},
          "execution_count": 89
        }
      ]
    },
    {
      "cell_type": "code",
      "source": [
        "# Full array\n",
        "\n",
        "np.full((2,2), 7)"
      ],
      "metadata": {
        "colab": {
          "base_uri": "https://localhost:8080/"
        },
        "id": "jY7kQZQNHwhC",
        "outputId": "0c1c7056-0502-4c5e-8c01-ebbcd22cd341"
      },
      "execution_count": 92,
      "outputs": [
        {
          "output_type": "execute_result",
          "data": {
            "text/plain": [
              "array([[7, 7],\n",
              "       [7, 7]])"
            ]
          },
          "metadata": {},
          "execution_count": 92
        }
      ]
    },
    {
      "cell_type": "code",
      "source": [
        "# Evenly spaced array\n",
        "print(np.arange(10,25,5)) # start from 10, space of 5, end at 25\n",
        "print(np.linspace(0,2,9)) # min = 0, max = 2, total elements = 9"
      ],
      "metadata": {
        "colab": {
          "base_uri": "https://localhost:8080/"
        },
        "id": "6OHXU-5mH5Pg",
        "outputId": "6ba62433-ad04-416e-987a-471e20aa6b9c"
      },
      "execution_count": 94,
      "outputs": [
        {
          "output_type": "stream",
          "name": "stdout",
          "text": [
            "[10 15 20]\n",
            "[0.   0.25 0.5  0.75 1.   1.25 1.5  1.75 2.  ]\n"
          ]
        }
      ]
    }
  ]
}